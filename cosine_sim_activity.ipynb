{
 "cells": [
  {
   "cell_type": "code",
   "execution_count": 54,
   "metadata": {},
   "outputs": [],
   "source": [
    "#Text Similarity\n",
    "import re\n",
    "from collections import Counter\n",
    "import pandas as pd\n",
    "import numpy as np\n",
    "from numpy.linalg import norm\n",
    "import plotly.express as px"
   ]
  },
  {
   "cell_type": "code",
   "execution_count": 2,
   "metadata": {},
   "outputs": [],
   "source": [
    "data = {'sentences':[\"As spring unfolds, the warmth of the season encourages the first blossoms to open, signaling longer days ahead.\",\n",
    "\"Spring brings not only blooming flowers but also the anticipation of sunny days and outdoor activities.\",\n",
    "\"With the arrival of spring, people begin planning their summer vacations, eager to enjoy the seasonal warmth.\",\n",
    "\"The mild spring weather marks the transition from the cold winter to the inviting warmth of summer.\",\n",
    "\"During spring, families often start spending more time outdoors, enjoying the season's pleasant temperatures and the promise of summer fun.\",\n",
    "\"Summer continues the season's trend of growth and warmth, with gardens full of life and days filled with sunlight.\",\n",
    "\"The summer season is synonymous with outdoor adventures and enjoying the extended daylight hours that began in spring.\",\n",
    "\"As summer arrives, the warm weather invites a continuation of the outdoor activities that people began enjoying in spring.\",\n",
    "\"The transition into summer brings even warmer temperatures, allowing for beach visits and swimming, much awaited since the spring.\",\n",
    "\"Summer vacations are often planned as the days grow longer, a pattern that starts in the spring, culminating in peak summer leisure.\"]}"
   ]
  },
  {
   "cell_type": "code",
   "execution_count": 3,
   "metadata": {},
   "outputs": [],
   "source": [
    "def tokenize(sentence):\n",
    "    sent = re.sub(r'[^\\w\\s]', '', sentence).lower()\n",
    "    return Counter(sent.split())"
   ]
  },
  {
   "cell_type": "code",
   "execution_count": 4,
   "metadata": {},
   "outputs": [],
   "source": [
    "vocab = Counter()\n",
    "for sent in data['sentences']:\n",
    "    sent = tokenize(sent)\n",
    "    vocab += sent"
   ]
  },
  {
   "cell_type": "code",
   "execution_count": 14,
   "metadata": {},
   "outputs": [
    {
     "name": "stdout",
     "output_type": "stream",
     "text": [
      "['a', 'activities', 'adventures', 'ahead', 'allowing', 'also', 'and', 'anticipation', 'are', 'arrival', 'arrives', 'as', 'awaited', 'beach', 'began', 'begin', 'blooming', 'blossoms', 'brings', 'but', 'cold', 'continuation', 'continues', 'culminating', 'daylight', 'days', 'during', 'eager', 'encourages', 'enjoy', 'enjoying', 'even', 'extended', 'families', 'filled', 'first', 'flowers', 'for', 'from', 'full', 'fun', 'gardens', 'grow', 'growth', 'hours', 'in', 'into', 'invites', 'inviting', 'is', 'leisure', 'life', 'longer', 'marks', 'mild', 'more', 'much', 'not', 'of', 'often', 'only', 'open', 'outdoor', 'outdoors', 'pattern', 'peak', 'people', 'planned', 'planning', 'pleasant', 'promise', 'season', 'seasonal', 'seasons', 'signaling', 'since', 'spending', 'spring', 'start', 'starts', 'summer', 'sunlight', 'sunny', 'swimming', 'synonymous', 'temperatures', 'that', 'the', 'their', 'time', 'to', 'transition', 'trend', 'unfolds', 'vacations', 'visits', 'warm', 'warmer', 'warmth', 'weather', 'winter', 'with']\n"
     ]
    }
   ],
   "source": [
    "print(sorted(vocab.keys()))"
   ]
  },
  {
   "cell_type": "code",
   "execution_count": 106,
   "metadata": {},
   "outputs": [
    {
     "name": "stdout",
     "output_type": "stream",
     "text": [
      "{'a': 0, 'activities': 0, 'adventures': 0, 'ahead': 1, 'allowing': 0, 'also': 0, 'and': 0, 'anticipation': 0, 'are': 0, 'arrival': 0, 'arrives': 0, 'as': 1, 'awaited': 0, 'beach': 0, 'began': 0, 'begin': 0, 'blooming': 0, 'blossoms': 1, 'brings': 0, 'but': 0, 'cold': 0, 'continuation': 0, 'continues': 0, 'culminating': 0, 'daylight': 0, 'days': 1, 'during': 0, 'eager': 0, 'encourages': 1, 'enjoy': 0, 'enjoying': 0, 'even': 0, 'extended': 0, 'families': 0, 'filled': 0, 'first': 1, 'flowers': 0, 'for': 0, 'from': 0, 'full': 0, 'fun': 0, 'gardens': 0, 'grow': 0, 'growth': 0, 'hours': 0, 'in': 0, 'into': 0, 'invites': 0, 'inviting': 0, 'is': 0, 'leisure': 0, 'life': 0, 'longer': 1, 'marks': 0, 'mild': 0, 'more': 0, 'much': 0, 'not': 0, 'of': 1, 'often': 0, 'only': 0, 'open': 1, 'outdoor': 0, 'outdoors': 0, 'pattern': 0, 'peak': 0, 'people': 0, 'planned': 0, 'planning': 0, 'pleasant': 0, 'promise': 0, 'season': 1, 'seasonal': 0, 'seasons': 0, 'signaling': 1, 'since': 0, 'spending': 0, 'spring': 1, 'start': 0, 'starts': 0, 'summer': 0, 'sunlight': 0, 'sunny': 0, 'swimming': 0, 'synonymous': 0, 'temperatures': 0, 'that': 0, 'the': 3, 'their': 0, 'time': 0, 'to': 1, 'transition': 0, 'trend': 0, 'unfolds': 1, 'vacations': 0, 'visits': 0, 'warm': 0, 'warmer': 0, 'warmth': 1, 'weather': 0, 'winter': 0, 'with': 0}\n",
      "{'a': 0, 'activities': 1, 'adventures': 0, 'ahead': 0, 'allowing': 0, 'also': 1, 'and': 1, 'anticipation': 1, 'are': 0, 'arrival': 0, 'arrives': 0, 'as': 0, 'awaited': 0, 'beach': 0, 'began': 0, 'begin': 0, 'blooming': 1, 'blossoms': 0, 'brings': 1, 'but': 1, 'cold': 0, 'continuation': 0, 'continues': 0, 'culminating': 0, 'daylight': 0, 'days': 1, 'during': 0, 'eager': 0, 'encourages': 0, 'enjoy': 0, 'enjoying': 0, 'even': 0, 'extended': 0, 'families': 0, 'filled': 0, 'first': 0, 'flowers': 1, 'for': 0, 'from': 0, 'full': 0, 'fun': 0, 'gardens': 0, 'grow': 0, 'growth': 0, 'hours': 0, 'in': 0, 'into': 0, 'invites': 0, 'inviting': 0, 'is': 0, 'leisure': 0, 'life': 0, 'longer': 0, 'marks': 0, 'mild': 0, 'more': 0, 'much': 0, 'not': 1, 'of': 1, 'often': 0, 'only': 1, 'open': 0, 'outdoor': 1, 'outdoors': 0, 'pattern': 0, 'peak': 0, 'people': 0, 'planned': 0, 'planning': 0, 'pleasant': 0, 'promise': 0, 'season': 0, 'seasonal': 0, 'seasons': 0, 'signaling': 0, 'since': 0, 'spending': 0, 'spring': 1, 'start': 0, 'starts': 0, 'summer': 0, 'sunlight': 0, 'sunny': 1, 'swimming': 0, 'synonymous': 0, 'temperatures': 0, 'that': 0, 'the': 1, 'their': 0, 'time': 0, 'to': 0, 'transition': 0, 'trend': 0, 'unfolds': 0, 'vacations': 0, 'visits': 0, 'warm': 0, 'warmer': 0, 'warmth': 0, 'weather': 0, 'winter': 0, 'with': 0}\n",
      "{'a': 0, 'activities': 0, 'adventures': 0, 'ahead': 0, 'allowing': 0, 'also': 0, 'and': 0, 'anticipation': 0, 'are': 0, 'arrival': 1, 'arrives': 0, 'as': 0, 'awaited': 0, 'beach': 0, 'began': 0, 'begin': 1, 'blooming': 0, 'blossoms': 0, 'brings': 0, 'but': 0, 'cold': 0, 'continuation': 0, 'continues': 0, 'culminating': 0, 'daylight': 0, 'days': 0, 'during': 0, 'eager': 1, 'encourages': 0, 'enjoy': 1, 'enjoying': 0, 'even': 0, 'extended': 0, 'families': 0, 'filled': 0, 'first': 0, 'flowers': 0, 'for': 0, 'from': 0, 'full': 0, 'fun': 0, 'gardens': 0, 'grow': 0, 'growth': 0, 'hours': 0, 'in': 0, 'into': 0, 'invites': 0, 'inviting': 0, 'is': 0, 'leisure': 0, 'life': 0, 'longer': 0, 'marks': 0, 'mild': 0, 'more': 0, 'much': 0, 'not': 0, 'of': 1, 'often': 0, 'only': 0, 'open': 0, 'outdoor': 0, 'outdoors': 0, 'pattern': 0, 'peak': 0, 'people': 1, 'planned': 0, 'planning': 1, 'pleasant': 0, 'promise': 0, 'season': 0, 'seasonal': 1, 'seasons': 0, 'signaling': 0, 'since': 0, 'spending': 0, 'spring': 1, 'start': 0, 'starts': 0, 'summer': 1, 'sunlight': 0, 'sunny': 0, 'swimming': 0, 'synonymous': 0, 'temperatures': 0, 'that': 0, 'the': 2, 'their': 1, 'time': 0, 'to': 1, 'transition': 0, 'trend': 0, 'unfolds': 0, 'vacations': 1, 'visits': 0, 'warm': 0, 'warmer': 0, 'warmth': 1, 'weather': 0, 'winter': 0, 'with': 1}\n",
      "{'a': 0, 'activities': 0, 'adventures': 0, 'ahead': 0, 'allowing': 0, 'also': 0, 'and': 0, 'anticipation': 0, 'are': 0, 'arrival': 0, 'arrives': 0, 'as': 0, 'awaited': 0, 'beach': 0, 'began': 0, 'begin': 0, 'blooming': 0, 'blossoms': 0, 'brings': 0, 'but': 0, 'cold': 1, 'continuation': 0, 'continues': 0, 'culminating': 0, 'daylight': 0, 'days': 0, 'during': 0, 'eager': 0, 'encourages': 0, 'enjoy': 0, 'enjoying': 0, 'even': 0, 'extended': 0, 'families': 0, 'filled': 0, 'first': 0, 'flowers': 0, 'for': 0, 'from': 1, 'full': 0, 'fun': 0, 'gardens': 0, 'grow': 0, 'growth': 0, 'hours': 0, 'in': 0, 'into': 0, 'invites': 0, 'inviting': 1, 'is': 0, 'leisure': 0, 'life': 0, 'longer': 0, 'marks': 1, 'mild': 1, 'more': 0, 'much': 0, 'not': 0, 'of': 1, 'often': 0, 'only': 0, 'open': 0, 'outdoor': 0, 'outdoors': 0, 'pattern': 0, 'peak': 0, 'people': 0, 'planned': 0, 'planning': 0, 'pleasant': 0, 'promise': 0, 'season': 0, 'seasonal': 0, 'seasons': 0, 'signaling': 0, 'since': 0, 'spending': 0, 'spring': 1, 'start': 0, 'starts': 0, 'summer': 1, 'sunlight': 0, 'sunny': 0, 'swimming': 0, 'synonymous': 0, 'temperatures': 0, 'that': 0, 'the': 4, 'their': 0, 'time': 0, 'to': 1, 'transition': 1, 'trend': 0, 'unfolds': 0, 'vacations': 0, 'visits': 0, 'warm': 0, 'warmer': 0, 'warmth': 1, 'weather': 1, 'winter': 1, 'with': 0}\n",
      "{'a': 0, 'activities': 0, 'adventures': 0, 'ahead': 0, 'allowing': 0, 'also': 0, 'and': 1, 'anticipation': 0, 'are': 0, 'arrival': 0, 'arrives': 0, 'as': 0, 'awaited': 0, 'beach': 0, 'began': 0, 'begin': 0, 'blooming': 0, 'blossoms': 0, 'brings': 0, 'but': 0, 'cold': 0, 'continuation': 0, 'continues': 0, 'culminating': 0, 'daylight': 0, 'days': 0, 'during': 1, 'eager': 0, 'encourages': 0, 'enjoy': 0, 'enjoying': 1, 'even': 0, 'extended': 0, 'families': 1, 'filled': 0, 'first': 0, 'flowers': 0, 'for': 0, 'from': 0, 'full': 0, 'fun': 1, 'gardens': 0, 'grow': 0, 'growth': 0, 'hours': 0, 'in': 0, 'into': 0, 'invites': 0, 'inviting': 0, 'is': 0, 'leisure': 0, 'life': 0, 'longer': 0, 'marks': 0, 'mild': 0, 'more': 1, 'much': 0, 'not': 0, 'of': 1, 'often': 1, 'only': 0, 'open': 0, 'outdoor': 0, 'outdoors': 1, 'pattern': 0, 'peak': 0, 'people': 0, 'planned': 0, 'planning': 0, 'pleasant': 1, 'promise': 1, 'season': 0, 'seasonal': 0, 'seasons': 1, 'signaling': 0, 'since': 0, 'spending': 1, 'spring': 1, 'start': 1, 'starts': 0, 'summer': 1, 'sunlight': 0, 'sunny': 0, 'swimming': 0, 'synonymous': 0, 'temperatures': 1, 'that': 0, 'the': 2, 'their': 0, 'time': 1, 'to': 0, 'transition': 0, 'trend': 0, 'unfolds': 0, 'vacations': 0, 'visits': 0, 'warm': 0, 'warmer': 0, 'warmth': 0, 'weather': 0, 'winter': 0, 'with': 0}\n",
      "{'a': 0, 'activities': 0, 'adventures': 0, 'ahead': 0, 'allowing': 0, 'also': 0, 'and': 2, 'anticipation': 0, 'are': 0, 'arrival': 0, 'arrives': 0, 'as': 0, 'awaited': 0, 'beach': 0, 'began': 0, 'begin': 0, 'blooming': 0, 'blossoms': 0, 'brings': 0, 'but': 0, 'cold': 0, 'continuation': 0, 'continues': 1, 'culminating': 0, 'daylight': 0, 'days': 1, 'during': 0, 'eager': 0, 'encourages': 0, 'enjoy': 0, 'enjoying': 0, 'even': 0, 'extended': 0, 'families': 0, 'filled': 1, 'first': 0, 'flowers': 0, 'for': 0, 'from': 0, 'full': 1, 'fun': 0, 'gardens': 1, 'grow': 0, 'growth': 1, 'hours': 0, 'in': 0, 'into': 0, 'invites': 0, 'inviting': 0, 'is': 0, 'leisure': 0, 'life': 1, 'longer': 0, 'marks': 0, 'mild': 0, 'more': 0, 'much': 0, 'not': 0, 'of': 2, 'often': 0, 'only': 0, 'open': 0, 'outdoor': 0, 'outdoors': 0, 'pattern': 0, 'peak': 0, 'people': 0, 'planned': 0, 'planning': 0, 'pleasant': 0, 'promise': 0, 'season': 0, 'seasonal': 0, 'seasons': 1, 'signaling': 0, 'since': 0, 'spending': 0, 'spring': 0, 'start': 0, 'starts': 0, 'summer': 1, 'sunlight': 1, 'sunny': 0, 'swimming': 0, 'synonymous': 0, 'temperatures': 0, 'that': 0, 'the': 1, 'their': 0, 'time': 0, 'to': 0, 'transition': 0, 'trend': 1, 'unfolds': 0, 'vacations': 0, 'visits': 0, 'warm': 0, 'warmer': 0, 'warmth': 1, 'weather': 0, 'winter': 0, 'with': 2}\n",
      "{'a': 0, 'activities': 0, 'adventures': 1, 'ahead': 0, 'allowing': 0, 'also': 0, 'and': 1, 'anticipation': 0, 'are': 0, 'arrival': 0, 'arrives': 0, 'as': 0, 'awaited': 0, 'beach': 0, 'began': 1, 'begin': 0, 'blooming': 0, 'blossoms': 0, 'brings': 0, 'but': 0, 'cold': 0, 'continuation': 0, 'continues': 0, 'culminating': 0, 'daylight': 1, 'days': 0, 'during': 0, 'eager': 0, 'encourages': 0, 'enjoy': 0, 'enjoying': 1, 'even': 0, 'extended': 1, 'families': 0, 'filled': 0, 'first': 0, 'flowers': 0, 'for': 0, 'from': 0, 'full': 0, 'fun': 0, 'gardens': 0, 'grow': 0, 'growth': 0, 'hours': 1, 'in': 1, 'into': 0, 'invites': 0, 'inviting': 0, 'is': 1, 'leisure': 0, 'life': 0, 'longer': 0, 'marks': 0, 'mild': 0, 'more': 0, 'much': 0, 'not': 0, 'of': 0, 'often': 0, 'only': 0, 'open': 0, 'outdoor': 1, 'outdoors': 0, 'pattern': 0, 'peak': 0, 'people': 0, 'planned': 0, 'planning': 0, 'pleasant': 0, 'promise': 0, 'season': 1, 'seasonal': 0, 'seasons': 0, 'signaling': 0, 'since': 0, 'spending': 0, 'spring': 1, 'start': 0, 'starts': 0, 'summer': 1, 'sunlight': 0, 'sunny': 0, 'swimming': 0, 'synonymous': 1, 'temperatures': 0, 'that': 1, 'the': 2, 'their': 0, 'time': 0, 'to': 0, 'transition': 0, 'trend': 0, 'unfolds': 0, 'vacations': 0, 'visits': 0, 'warm': 0, 'warmer': 0, 'warmth': 0, 'weather': 0, 'winter': 0, 'with': 1}\n",
      "{'a': 1, 'activities': 1, 'adventures': 0, 'ahead': 0, 'allowing': 0, 'also': 0, 'and': 0, 'anticipation': 0, 'are': 0, 'arrival': 0, 'arrives': 1, 'as': 1, 'awaited': 0, 'beach': 0, 'began': 1, 'begin': 0, 'blooming': 0, 'blossoms': 0, 'brings': 0, 'but': 0, 'cold': 0, 'continuation': 1, 'continues': 0, 'culminating': 0, 'daylight': 0, 'days': 0, 'during': 0, 'eager': 0, 'encourages': 0, 'enjoy': 0, 'enjoying': 1, 'even': 0, 'extended': 0, 'families': 0, 'filled': 0, 'first': 0, 'flowers': 0, 'for': 0, 'from': 0, 'full': 0, 'fun': 0, 'gardens': 0, 'grow': 0, 'growth': 0, 'hours': 0, 'in': 1, 'into': 0, 'invites': 1, 'inviting': 0, 'is': 0, 'leisure': 0, 'life': 0, 'longer': 0, 'marks': 0, 'mild': 0, 'more': 0, 'much': 0, 'not': 0, 'of': 1, 'often': 0, 'only': 0, 'open': 0, 'outdoor': 1, 'outdoors': 0, 'pattern': 0, 'peak': 0, 'people': 1, 'planned': 0, 'planning': 0, 'pleasant': 0, 'promise': 0, 'season': 0, 'seasonal': 0, 'seasons': 0, 'signaling': 0, 'since': 0, 'spending': 0, 'spring': 1, 'start': 0, 'starts': 0, 'summer': 1, 'sunlight': 0, 'sunny': 0, 'swimming': 0, 'synonymous': 0, 'temperatures': 0, 'that': 1, 'the': 2, 'their': 0, 'time': 0, 'to': 0, 'transition': 0, 'trend': 0, 'unfolds': 0, 'vacations': 0, 'visits': 0, 'warm': 1, 'warmer': 0, 'warmth': 0, 'weather': 1, 'winter': 0, 'with': 0}\n",
      "{'a': 0, 'activities': 0, 'adventures': 0, 'ahead': 0, 'allowing': 1, 'also': 0, 'and': 1, 'anticipation': 0, 'are': 0, 'arrival': 0, 'arrives': 0, 'as': 0, 'awaited': 1, 'beach': 1, 'began': 0, 'begin': 0, 'blooming': 0, 'blossoms': 0, 'brings': 1, 'but': 0, 'cold': 0, 'continuation': 0, 'continues': 0, 'culminating': 0, 'daylight': 0, 'days': 0, 'during': 0, 'eager': 0, 'encourages': 0, 'enjoy': 0, 'enjoying': 0, 'even': 1, 'extended': 0, 'families': 0, 'filled': 0, 'first': 0, 'flowers': 0, 'for': 1, 'from': 0, 'full': 0, 'fun': 0, 'gardens': 0, 'grow': 0, 'growth': 0, 'hours': 0, 'in': 0, 'into': 1, 'invites': 0, 'inviting': 0, 'is': 0, 'leisure': 0, 'life': 0, 'longer': 0, 'marks': 0, 'mild': 0, 'more': 0, 'much': 1, 'not': 0, 'of': 0, 'often': 0, 'only': 0, 'open': 0, 'outdoor': 0, 'outdoors': 0, 'pattern': 0, 'peak': 0, 'people': 0, 'planned': 0, 'planning': 0, 'pleasant': 0, 'promise': 0, 'season': 0, 'seasonal': 0, 'seasons': 0, 'signaling': 0, 'since': 1, 'spending': 0, 'spring': 1, 'start': 0, 'starts': 0, 'summer': 1, 'sunlight': 0, 'sunny': 0, 'swimming': 1, 'synonymous': 0, 'temperatures': 1, 'that': 0, 'the': 2, 'their': 0, 'time': 0, 'to': 0, 'transition': 1, 'trend': 0, 'unfolds': 0, 'vacations': 0, 'visits': 1, 'warm': 0, 'warmer': 1, 'warmth': 0, 'weather': 0, 'winter': 0, 'with': 0}\n",
      "{'a': 1, 'activities': 0, 'adventures': 0, 'ahead': 0, 'allowing': 0, 'also': 0, 'and': 0, 'anticipation': 0, 'are': 1, 'arrival': 0, 'arrives': 0, 'as': 1, 'awaited': 0, 'beach': 0, 'began': 0, 'begin': 0, 'blooming': 0, 'blossoms': 0, 'brings': 0, 'but': 0, 'cold': 0, 'continuation': 0, 'continues': 0, 'culminating': 1, 'daylight': 0, 'days': 1, 'during': 0, 'eager': 0, 'encourages': 0, 'enjoy': 0, 'enjoying': 0, 'even': 0, 'extended': 0, 'families': 0, 'filled': 0, 'first': 0, 'flowers': 0, 'for': 0, 'from': 0, 'full': 0, 'fun': 0, 'gardens': 0, 'grow': 1, 'growth': 0, 'hours': 0, 'in': 2, 'into': 0, 'invites': 0, 'inviting': 0, 'is': 0, 'leisure': 1, 'life': 0, 'longer': 1, 'marks': 0, 'mild': 0, 'more': 0, 'much': 0, 'not': 0, 'of': 0, 'often': 1, 'only': 0, 'open': 0, 'outdoor': 0, 'outdoors': 0, 'pattern': 1, 'peak': 1, 'people': 0, 'planned': 1, 'planning': 0, 'pleasant': 0, 'promise': 0, 'season': 0, 'seasonal': 0, 'seasons': 0, 'signaling': 0, 'since': 0, 'spending': 0, 'spring': 1, 'start': 0, 'starts': 1, 'summer': 2, 'sunlight': 0, 'sunny': 0, 'swimming': 0, 'synonymous': 0, 'temperatures': 0, 'that': 1, 'the': 2, 'their': 0, 'time': 0, 'to': 0, 'transition': 0, 'trend': 0, 'unfolds': 0, 'vacations': 1, 'visits': 0, 'warm': 0, 'warmer': 0, 'warmth': 0, 'weather': 0, 'winter': 0, 'with': 0}\n"
     ]
    }
   ],
   "source": [
    "all_dta = dict()\n",
    "count = 0\n",
    "for sent in data['sentences']:\n",
    "    cur_sent = tokenize(sent)\n",
    "    for word in vocab.keys():\n",
    "        if word not in cur_sent:\n",
    "            cur_sent[word] = 0\n",
    "    cur_sent = {i: cur_sent[i] for i in sorted(cur_sent.keys())}\n",
    "    print(cur_sent)\n",
    "    count += 1\n",
    "    all_dta.update({count: list(cur_sent.values())})"
   ]
  },
  {
   "cell_type": "code",
   "execution_count": 107,
   "metadata": {},
   "outputs": [
    {
     "data": {
      "text/html": [
       "<div>\n",
       "<style scoped>\n",
       "    .dataframe tbody tr th:only-of-type {\n",
       "        vertical-align: middle;\n",
       "    }\n",
       "\n",
       "    .dataframe tbody tr th {\n",
       "        vertical-align: top;\n",
       "    }\n",
       "\n",
       "    .dataframe thead th {\n",
       "        text-align: right;\n",
       "    }\n",
       "</style>\n",
       "<table border=\"1\" class=\"dataframe\">\n",
       "  <thead>\n",
       "    <tr style=\"text-align: right;\">\n",
       "      <th></th>\n",
       "      <th>a</th>\n",
       "      <th>activities</th>\n",
       "      <th>adventures</th>\n",
       "      <th>ahead</th>\n",
       "      <th>allowing</th>\n",
       "      <th>also</th>\n",
       "      <th>and</th>\n",
       "      <th>anticipation</th>\n",
       "      <th>are</th>\n",
       "      <th>arrival</th>\n",
       "      <th>...</th>\n",
       "      <th>trend</th>\n",
       "      <th>unfolds</th>\n",
       "      <th>vacations</th>\n",
       "      <th>visits</th>\n",
       "      <th>warm</th>\n",
       "      <th>warmer</th>\n",
       "      <th>warmth</th>\n",
       "      <th>weather</th>\n",
       "      <th>winter</th>\n",
       "      <th>with</th>\n",
       "    </tr>\n",
       "  </thead>\n",
       "  <tbody>\n",
       "    <tr>\n",
       "      <th>1</th>\n",
       "      <td>0</td>\n",
       "      <td>0</td>\n",
       "      <td>0</td>\n",
       "      <td>1</td>\n",
       "      <td>0</td>\n",
       "      <td>0</td>\n",
       "      <td>0</td>\n",
       "      <td>0</td>\n",
       "      <td>0</td>\n",
       "      <td>0</td>\n",
       "      <td>...</td>\n",
       "      <td>0</td>\n",
       "      <td>1</td>\n",
       "      <td>0</td>\n",
       "      <td>0</td>\n",
       "      <td>0</td>\n",
       "      <td>0</td>\n",
       "      <td>1</td>\n",
       "      <td>0</td>\n",
       "      <td>0</td>\n",
       "      <td>0</td>\n",
       "    </tr>\n",
       "    <tr>\n",
       "      <th>2</th>\n",
       "      <td>0</td>\n",
       "      <td>1</td>\n",
       "      <td>0</td>\n",
       "      <td>0</td>\n",
       "      <td>0</td>\n",
       "      <td>1</td>\n",
       "      <td>1</td>\n",
       "      <td>1</td>\n",
       "      <td>0</td>\n",
       "      <td>0</td>\n",
       "      <td>...</td>\n",
       "      <td>0</td>\n",
       "      <td>0</td>\n",
       "      <td>0</td>\n",
       "      <td>0</td>\n",
       "      <td>0</td>\n",
       "      <td>0</td>\n",
       "      <td>0</td>\n",
       "      <td>0</td>\n",
       "      <td>0</td>\n",
       "      <td>0</td>\n",
       "    </tr>\n",
       "    <tr>\n",
       "      <th>3</th>\n",
       "      <td>0</td>\n",
       "      <td>0</td>\n",
       "      <td>0</td>\n",
       "      <td>0</td>\n",
       "      <td>0</td>\n",
       "      <td>0</td>\n",
       "      <td>0</td>\n",
       "      <td>0</td>\n",
       "      <td>0</td>\n",
       "      <td>1</td>\n",
       "      <td>...</td>\n",
       "      <td>0</td>\n",
       "      <td>0</td>\n",
       "      <td>1</td>\n",
       "      <td>0</td>\n",
       "      <td>0</td>\n",
       "      <td>0</td>\n",
       "      <td>1</td>\n",
       "      <td>0</td>\n",
       "      <td>0</td>\n",
       "      <td>1</td>\n",
       "    </tr>\n",
       "    <tr>\n",
       "      <th>4</th>\n",
       "      <td>0</td>\n",
       "      <td>0</td>\n",
       "      <td>0</td>\n",
       "      <td>0</td>\n",
       "      <td>0</td>\n",
       "      <td>0</td>\n",
       "      <td>0</td>\n",
       "      <td>0</td>\n",
       "      <td>0</td>\n",
       "      <td>0</td>\n",
       "      <td>...</td>\n",
       "      <td>0</td>\n",
       "      <td>0</td>\n",
       "      <td>0</td>\n",
       "      <td>0</td>\n",
       "      <td>0</td>\n",
       "      <td>0</td>\n",
       "      <td>1</td>\n",
       "      <td>1</td>\n",
       "      <td>1</td>\n",
       "      <td>0</td>\n",
       "    </tr>\n",
       "    <tr>\n",
       "      <th>5</th>\n",
       "      <td>0</td>\n",
       "      <td>0</td>\n",
       "      <td>0</td>\n",
       "      <td>0</td>\n",
       "      <td>0</td>\n",
       "      <td>0</td>\n",
       "      <td>1</td>\n",
       "      <td>0</td>\n",
       "      <td>0</td>\n",
       "      <td>0</td>\n",
       "      <td>...</td>\n",
       "      <td>0</td>\n",
       "      <td>0</td>\n",
       "      <td>0</td>\n",
       "      <td>0</td>\n",
       "      <td>0</td>\n",
       "      <td>0</td>\n",
       "      <td>0</td>\n",
       "      <td>0</td>\n",
       "      <td>0</td>\n",
       "      <td>0</td>\n",
       "    </tr>\n",
       "    <tr>\n",
       "      <th>6</th>\n",
       "      <td>0</td>\n",
       "      <td>0</td>\n",
       "      <td>0</td>\n",
       "      <td>0</td>\n",
       "      <td>0</td>\n",
       "      <td>0</td>\n",
       "      <td>2</td>\n",
       "      <td>0</td>\n",
       "      <td>0</td>\n",
       "      <td>0</td>\n",
       "      <td>...</td>\n",
       "      <td>1</td>\n",
       "      <td>0</td>\n",
       "      <td>0</td>\n",
       "      <td>0</td>\n",
       "      <td>0</td>\n",
       "      <td>0</td>\n",
       "      <td>1</td>\n",
       "      <td>0</td>\n",
       "      <td>0</td>\n",
       "      <td>2</td>\n",
       "    </tr>\n",
       "    <tr>\n",
       "      <th>7</th>\n",
       "      <td>0</td>\n",
       "      <td>0</td>\n",
       "      <td>1</td>\n",
       "      <td>0</td>\n",
       "      <td>0</td>\n",
       "      <td>0</td>\n",
       "      <td>1</td>\n",
       "      <td>0</td>\n",
       "      <td>0</td>\n",
       "      <td>0</td>\n",
       "      <td>...</td>\n",
       "      <td>0</td>\n",
       "      <td>0</td>\n",
       "      <td>0</td>\n",
       "      <td>0</td>\n",
       "      <td>0</td>\n",
       "      <td>0</td>\n",
       "      <td>0</td>\n",
       "      <td>0</td>\n",
       "      <td>0</td>\n",
       "      <td>1</td>\n",
       "    </tr>\n",
       "    <tr>\n",
       "      <th>8</th>\n",
       "      <td>1</td>\n",
       "      <td>1</td>\n",
       "      <td>0</td>\n",
       "      <td>0</td>\n",
       "      <td>0</td>\n",
       "      <td>0</td>\n",
       "      <td>0</td>\n",
       "      <td>0</td>\n",
       "      <td>0</td>\n",
       "      <td>0</td>\n",
       "      <td>...</td>\n",
       "      <td>0</td>\n",
       "      <td>0</td>\n",
       "      <td>0</td>\n",
       "      <td>0</td>\n",
       "      <td>1</td>\n",
       "      <td>0</td>\n",
       "      <td>0</td>\n",
       "      <td>1</td>\n",
       "      <td>0</td>\n",
       "      <td>0</td>\n",
       "    </tr>\n",
       "    <tr>\n",
       "      <th>9</th>\n",
       "      <td>0</td>\n",
       "      <td>0</td>\n",
       "      <td>0</td>\n",
       "      <td>0</td>\n",
       "      <td>1</td>\n",
       "      <td>0</td>\n",
       "      <td>1</td>\n",
       "      <td>0</td>\n",
       "      <td>0</td>\n",
       "      <td>0</td>\n",
       "      <td>...</td>\n",
       "      <td>0</td>\n",
       "      <td>0</td>\n",
       "      <td>0</td>\n",
       "      <td>1</td>\n",
       "      <td>0</td>\n",
       "      <td>1</td>\n",
       "      <td>0</td>\n",
       "      <td>0</td>\n",
       "      <td>0</td>\n",
       "      <td>0</td>\n",
       "    </tr>\n",
       "    <tr>\n",
       "      <th>10</th>\n",
       "      <td>1</td>\n",
       "      <td>0</td>\n",
       "      <td>0</td>\n",
       "      <td>0</td>\n",
       "      <td>0</td>\n",
       "      <td>0</td>\n",
       "      <td>0</td>\n",
       "      <td>0</td>\n",
       "      <td>1</td>\n",
       "      <td>0</td>\n",
       "      <td>...</td>\n",
       "      <td>0</td>\n",
       "      <td>0</td>\n",
       "      <td>1</td>\n",
       "      <td>0</td>\n",
       "      <td>0</td>\n",
       "      <td>0</td>\n",
       "      <td>0</td>\n",
       "      <td>0</td>\n",
       "      <td>0</td>\n",
       "      <td>0</td>\n",
       "    </tr>\n",
       "  </tbody>\n",
       "</table>\n",
       "<p>10 rows × 102 columns</p>\n",
       "</div>"
      ],
      "text/plain": [
       "    a  activities  adventures  ahead  allowing  also  and  anticipation  are  \\\n",
       "1   0           0           0      1         0     0    0             0    0   \n",
       "2   0           1           0      0         0     1    1             1    0   \n",
       "3   0           0           0      0         0     0    0             0    0   \n",
       "4   0           0           0      0         0     0    0             0    0   \n",
       "5   0           0           0      0         0     0    1             0    0   \n",
       "6   0           0           0      0         0     0    2             0    0   \n",
       "7   0           0           1      0         0     0    1             0    0   \n",
       "8   1           1           0      0         0     0    0             0    0   \n",
       "9   0           0           0      0         1     0    1             0    0   \n",
       "10  1           0           0      0         0     0    0             0    1   \n",
       "\n",
       "    arrival  ...  trend  unfolds  vacations  visits  warm  warmer  warmth  \\\n",
       "1         0  ...      0        1          0       0     0       0       1   \n",
       "2         0  ...      0        0          0       0     0       0       0   \n",
       "3         1  ...      0        0          1       0     0       0       1   \n",
       "4         0  ...      0        0          0       0     0       0       1   \n",
       "5         0  ...      0        0          0       0     0       0       0   \n",
       "6         0  ...      1        0          0       0     0       0       1   \n",
       "7         0  ...      0        0          0       0     0       0       0   \n",
       "8         0  ...      0        0          0       0     1       0       0   \n",
       "9         0  ...      0        0          0       1     0       1       0   \n",
       "10        0  ...      0        0          1       0     0       0       0   \n",
       "\n",
       "    weather  winter  with  \n",
       "1         0       0     0  \n",
       "2         0       0     0  \n",
       "3         0       0     1  \n",
       "4         1       1     0  \n",
       "5         0       0     0  \n",
       "6         0       0     2  \n",
       "7         0       0     1  \n",
       "8         1       0     0  \n",
       "9         0       0     0  \n",
       "10        0       0     0  \n",
       "\n",
       "[10 rows x 102 columns]"
      ]
     },
     "execution_count": 107,
     "metadata": {},
     "output_type": "execute_result"
    }
   ],
   "source": [
    "df = pd.DataFrame.from_dict(all_dta, orient='index', columns=sorted(vocab.keys()))\n",
    "df"
   ]
  },
  {
   "cell_type": "code",
   "execution_count": 81,
   "metadata": {},
   "outputs": [],
   "source": [
    "def cosineSim(v1, v2):\n",
    "    v1 = np.array(v1)\n",
    "    v2 = np.array(v2).T\n",
    "    return v1@v2/(norm(v1)*norm(v2))"
   ]
  },
  {
   "cell_type": "code",
   "execution_count": 103,
   "metadata": {},
   "outputs": [
    {
     "name": "stdout",
     "output_type": "stream",
     "text": [
      "{'sentence 1': [1.0000000000000002, 0.3061862178478973, 0.468292905790847, 0.6064784348631228, 0.3481553119113957, 0.2857738033247041, 0.3651483716701107, 0.40089186286863665, 0.3118047822311618, 0.38575837490522974], 'sentence 2': [0.3061862178478973, 1.0, 0.22941573387056174, 0.2785430072655778, 0.26650089544451305, 0.3, 0.2795084971874737, 0.3273268353539886, 0.2727723627949905, 0.1889822365046136], 'sentence 3': [0.468292905790847, 0.22941573387056174, 0.9999999999999998, 0.5538186196949965, 0.3423811916311629, 0.3670651741928988, 0.3590924232298039, 0.40050093945740706, 0.3003757045930553, 0.3468439878096479], 'sentence 4': [0.6064784348631228, 0.2785430072655778, 0.5538186196949965, 1.0000000000000002, 0.43549417035569277, 0.297112541083283, 0.41522739926869984, 0.4862645390838647, 0.44574249416020933, 0.386024323488978], 'sentence 5': [0.3481553119113957, 0.26650089544451305, 0.3423811916311629, 0.43549417035569277, 1.0, 0.34112114616897665, 0.38138503569823684, 0.37219368415938836, 0.37219368415938836, 0.3223291856101521], 'sentence 6': [0.2857738033247041, 0.3, 0.3670651741928988, 0.297112541083283, 0.34112114616897665, 1.0, 0.31304951684997057, 0.2182178902359924, 0.2182178902359924, 0.18898223650461363], 'sentence 7': [0.3651483716701107, 0.2795084971874737, 0.3590924232298039, 0.41522739926869984, 0.38138503569823684, 0.31304951684997057, 0.9999999999999998, 0.5367450401216932, 0.34156502553198664, 0.42257712736425823], 'sentence 8': [0.40089186286863665, 0.3273268353539886, 0.40050093945740706, 0.4862645390838647, 0.37219368415938836, 0.2182178902359924, 0.5367450401216932, 1.0, 0.2857142857142857, 0.4948716593053935], 'sentence 9': [0.3118047822311618, 0.2727723627949905, 0.3003757045930553, 0.44574249416020933, 0.37219368415938836, 0.2182178902359924, 0.34156502553198664, 0.2857142857142857, 1.0, 0.28867513459481287], 'sentence 10': [0.38575837490522974, 0.1889822365046136, 0.3468439878096479, 0.386024323488978, 0.3223291856101521, 0.18898223650461363, 0.42257712736425823, 0.4948716593053935, 0.28867513459481287, 0.9999999999999999]}\n"
     ]
    }
   ],
   "source": [
    "cosines = dict()\n",
    "def get_cosine_matrix():\n",
    "    sent_count = 1\n",
    "    for i in range(10):\n",
    "        column = []\n",
    "        key = f\"sentence {sent_count}\"\n",
    "        sent_count += 1\n",
    "        for j in range(10):\n",
    "            column.append(cosineSim(df.iloc[[i]], df.iloc[[j]])[0][0])\n",
    "        cosines.update({key: column})\n",
    "get_cosine_matrix()\n",
    "print(cosines)"
   ]
  },
  {
   "cell_type": "code",
   "execution_count": 109,
   "metadata": {},
   "outputs": [
    {
     "data": {
      "text/html": [
       "<div>\n",
       "<style scoped>\n",
       "    .dataframe tbody tr th:only-of-type {\n",
       "        vertical-align: middle;\n",
       "    }\n",
       "\n",
       "    .dataframe tbody tr th {\n",
       "        vertical-align: top;\n",
       "    }\n",
       "\n",
       "    .dataframe thead th {\n",
       "        text-align: right;\n",
       "    }\n",
       "</style>\n",
       "<table border=\"1\" class=\"dataframe\">\n",
       "  <thead>\n",
       "    <tr style=\"text-align: right;\">\n",
       "      <th></th>\n",
       "      <th>sentence 1</th>\n",
       "      <th>sentence 2</th>\n",
       "      <th>sentence 3</th>\n",
       "      <th>sentence 4</th>\n",
       "      <th>sentence 5</th>\n",
       "      <th>sentence 6</th>\n",
       "      <th>sentence 7</th>\n",
       "      <th>sentence 8</th>\n",
       "      <th>sentence 9</th>\n",
       "      <th>sentence 10</th>\n",
       "    </tr>\n",
       "  </thead>\n",
       "  <tbody>\n",
       "    <tr>\n",
       "      <th>sentence 1</th>\n",
       "      <td>1.000000</td>\n",
       "      <td>0.306186</td>\n",
       "      <td>0.468293</td>\n",
       "      <td>0.606478</td>\n",
       "      <td>0.348155</td>\n",
       "      <td>0.285774</td>\n",
       "      <td>0.365148</td>\n",
       "      <td>0.400892</td>\n",
       "      <td>0.311805</td>\n",
       "      <td>0.385758</td>\n",
       "    </tr>\n",
       "    <tr>\n",
       "      <th>sentence 2</th>\n",
       "      <td>0.306186</td>\n",
       "      <td>1.000000</td>\n",
       "      <td>0.229416</td>\n",
       "      <td>0.278543</td>\n",
       "      <td>0.266501</td>\n",
       "      <td>0.300000</td>\n",
       "      <td>0.279508</td>\n",
       "      <td>0.327327</td>\n",
       "      <td>0.272772</td>\n",
       "      <td>0.188982</td>\n",
       "    </tr>\n",
       "    <tr>\n",
       "      <th>sentence 3</th>\n",
       "      <td>0.468293</td>\n",
       "      <td>0.229416</td>\n",
       "      <td>1.000000</td>\n",
       "      <td>0.553819</td>\n",
       "      <td>0.342381</td>\n",
       "      <td>0.367065</td>\n",
       "      <td>0.359092</td>\n",
       "      <td>0.400501</td>\n",
       "      <td>0.300376</td>\n",
       "      <td>0.346844</td>\n",
       "    </tr>\n",
       "    <tr>\n",
       "      <th>sentence 4</th>\n",
       "      <td>0.606478</td>\n",
       "      <td>0.278543</td>\n",
       "      <td>0.553819</td>\n",
       "      <td>1.000000</td>\n",
       "      <td>0.435494</td>\n",
       "      <td>0.297113</td>\n",
       "      <td>0.415227</td>\n",
       "      <td>0.486265</td>\n",
       "      <td>0.445742</td>\n",
       "      <td>0.386024</td>\n",
       "    </tr>\n",
       "    <tr>\n",
       "      <th>sentence 5</th>\n",
       "      <td>0.348155</td>\n",
       "      <td>0.266501</td>\n",
       "      <td>0.342381</td>\n",
       "      <td>0.435494</td>\n",
       "      <td>1.000000</td>\n",
       "      <td>0.341121</td>\n",
       "      <td>0.381385</td>\n",
       "      <td>0.372194</td>\n",
       "      <td>0.372194</td>\n",
       "      <td>0.322329</td>\n",
       "    </tr>\n",
       "    <tr>\n",
       "      <th>sentence 6</th>\n",
       "      <td>0.285774</td>\n",
       "      <td>0.300000</td>\n",
       "      <td>0.367065</td>\n",
       "      <td>0.297113</td>\n",
       "      <td>0.341121</td>\n",
       "      <td>1.000000</td>\n",
       "      <td>0.313050</td>\n",
       "      <td>0.218218</td>\n",
       "      <td>0.218218</td>\n",
       "      <td>0.188982</td>\n",
       "    </tr>\n",
       "    <tr>\n",
       "      <th>sentence 7</th>\n",
       "      <td>0.365148</td>\n",
       "      <td>0.279508</td>\n",
       "      <td>0.359092</td>\n",
       "      <td>0.415227</td>\n",
       "      <td>0.381385</td>\n",
       "      <td>0.313050</td>\n",
       "      <td>1.000000</td>\n",
       "      <td>0.536745</td>\n",
       "      <td>0.341565</td>\n",
       "      <td>0.422577</td>\n",
       "    </tr>\n",
       "    <tr>\n",
       "      <th>sentence 8</th>\n",
       "      <td>0.400892</td>\n",
       "      <td>0.327327</td>\n",
       "      <td>0.400501</td>\n",
       "      <td>0.486265</td>\n",
       "      <td>0.372194</td>\n",
       "      <td>0.218218</td>\n",
       "      <td>0.536745</td>\n",
       "      <td>1.000000</td>\n",
       "      <td>0.285714</td>\n",
       "      <td>0.494872</td>\n",
       "    </tr>\n",
       "    <tr>\n",
       "      <th>sentence 9</th>\n",
       "      <td>0.311805</td>\n",
       "      <td>0.272772</td>\n",
       "      <td>0.300376</td>\n",
       "      <td>0.445742</td>\n",
       "      <td>0.372194</td>\n",
       "      <td>0.218218</td>\n",
       "      <td>0.341565</td>\n",
       "      <td>0.285714</td>\n",
       "      <td>1.000000</td>\n",
       "      <td>0.288675</td>\n",
       "    </tr>\n",
       "    <tr>\n",
       "      <th>sentence 10</th>\n",
       "      <td>0.385758</td>\n",
       "      <td>0.188982</td>\n",
       "      <td>0.346844</td>\n",
       "      <td>0.386024</td>\n",
       "      <td>0.322329</td>\n",
       "      <td>0.188982</td>\n",
       "      <td>0.422577</td>\n",
       "      <td>0.494872</td>\n",
       "      <td>0.288675</td>\n",
       "      <td>1.000000</td>\n",
       "    </tr>\n",
       "  </tbody>\n",
       "</table>\n",
       "</div>"
      ],
      "text/plain": [
       "             sentence 1  sentence 2  sentence 3  sentence 4  sentence 5  \\\n",
       "sentence 1     1.000000    0.306186    0.468293    0.606478    0.348155   \n",
       "sentence 2     0.306186    1.000000    0.229416    0.278543    0.266501   \n",
       "sentence 3     0.468293    0.229416    1.000000    0.553819    0.342381   \n",
       "sentence 4     0.606478    0.278543    0.553819    1.000000    0.435494   \n",
       "sentence 5     0.348155    0.266501    0.342381    0.435494    1.000000   \n",
       "sentence 6     0.285774    0.300000    0.367065    0.297113    0.341121   \n",
       "sentence 7     0.365148    0.279508    0.359092    0.415227    0.381385   \n",
       "sentence 8     0.400892    0.327327    0.400501    0.486265    0.372194   \n",
       "sentence 9     0.311805    0.272772    0.300376    0.445742    0.372194   \n",
       "sentence 10    0.385758    0.188982    0.346844    0.386024    0.322329   \n",
       "\n",
       "             sentence 6  sentence 7  sentence 8  sentence 9  sentence 10  \n",
       "sentence 1     0.285774    0.365148    0.400892    0.311805     0.385758  \n",
       "sentence 2     0.300000    0.279508    0.327327    0.272772     0.188982  \n",
       "sentence 3     0.367065    0.359092    0.400501    0.300376     0.346844  \n",
       "sentence 4     0.297113    0.415227    0.486265    0.445742     0.386024  \n",
       "sentence 5     0.341121    0.381385    0.372194    0.372194     0.322329  \n",
       "sentence 6     1.000000    0.313050    0.218218    0.218218     0.188982  \n",
       "sentence 7     0.313050    1.000000    0.536745    0.341565     0.422577  \n",
       "sentence 8     0.218218    0.536745    1.000000    0.285714     0.494872  \n",
       "sentence 9     0.218218    0.341565    0.285714    1.000000     0.288675  \n",
       "sentence 10    0.188982    0.422577    0.494872    0.288675     1.000000  "
      ]
     },
     "execution_count": 109,
     "metadata": {},
     "output_type": "execute_result"
    }
   ],
   "source": [
    "df_cos = pd.DataFrame.from_dict(cosines, orient='index', columns=[f\"sentence {i}\" for i in range(1,11)])\n",
    "df_cos"
   ]
  },
  {
   "cell_type": "code",
   "execution_count": 111,
   "metadata": {},
   "outputs": [
    {
     "data": {
      "application/vnd.plotly.v1+json": {
       "config": {
        "plotlyServerURL": "https://plot.ly"
       },
       "data": [
        {
         "coloraxis": "coloraxis",
         "hovertemplate": "x: %{x}<br>y: %{y}<br>color: %{z}<extra></extra>",
         "name": "0",
         "type": "heatmap",
         "x": [
          "sentence 1",
          "sentence 2",
          "sentence 3",
          "sentence 4",
          "sentence 5",
          "sentence 6",
          "sentence 7",
          "sentence 8",
          "sentence 9",
          "sentence 10"
         ],
         "xaxis": "x",
         "y": [
          "sentence 1",
          "sentence 2",
          "sentence 3",
          "sentence 4",
          "sentence 5",
          "sentence 6",
          "sentence 7",
          "sentence 8",
          "sentence 9",
          "sentence 10"
         ],
         "yaxis": "y",
         "z": [
          [
           1.0000000000000002,
           0.3061862178478973,
           0.468292905790847,
           0.6064784348631228,
           0.3481553119113957,
           0.2857738033247041,
           0.3651483716701107,
           0.40089186286863665,
           0.3118047822311618,
           0.38575837490522974
          ],
          [
           0.3061862178478973,
           1,
           0.22941573387056174,
           0.2785430072655778,
           0.26650089544451305,
           0.3,
           0.2795084971874737,
           0.3273268353539886,
           0.2727723627949905,
           0.1889822365046136
          ],
          [
           0.468292905790847,
           0.22941573387056174,
           0.9999999999999998,
           0.5538186196949965,
           0.3423811916311629,
           0.3670651741928988,
           0.3590924232298039,
           0.40050093945740706,
           0.3003757045930553,
           0.3468439878096479
          ],
          [
           0.6064784348631228,
           0.2785430072655778,
           0.5538186196949965,
           1.0000000000000002,
           0.43549417035569277,
           0.297112541083283,
           0.41522739926869984,
           0.4862645390838647,
           0.44574249416020933,
           0.386024323488978
          ],
          [
           0.3481553119113957,
           0.26650089544451305,
           0.3423811916311629,
           0.43549417035569277,
           1,
           0.34112114616897665,
           0.38138503569823684,
           0.37219368415938836,
           0.37219368415938836,
           0.3223291856101521
          ],
          [
           0.2857738033247041,
           0.3,
           0.3670651741928988,
           0.297112541083283,
           0.34112114616897665,
           1,
           0.31304951684997057,
           0.2182178902359924,
           0.2182178902359924,
           0.18898223650461363
          ],
          [
           0.3651483716701107,
           0.2795084971874737,
           0.3590924232298039,
           0.41522739926869984,
           0.38138503569823684,
           0.31304951684997057,
           0.9999999999999998,
           0.5367450401216932,
           0.34156502553198664,
           0.42257712736425823
          ],
          [
           0.40089186286863665,
           0.3273268353539886,
           0.40050093945740706,
           0.4862645390838647,
           0.37219368415938836,
           0.2182178902359924,
           0.5367450401216932,
           1,
           0.2857142857142857,
           0.4948716593053935
          ],
          [
           0.3118047822311618,
           0.2727723627949905,
           0.3003757045930553,
           0.44574249416020933,
           0.37219368415938836,
           0.2182178902359924,
           0.34156502553198664,
           0.2857142857142857,
           1,
           0.28867513459481287
          ],
          [
           0.38575837490522974,
           0.1889822365046136,
           0.3468439878096479,
           0.386024323488978,
           0.3223291856101521,
           0.18898223650461363,
           0.42257712736425823,
           0.4948716593053935,
           0.28867513459481287,
           0.9999999999999999
          ]
         ]
        }
       ],
       "layout": {
        "coloraxis": {
         "colorscale": [
          [
           0,
           "#0d0887"
          ],
          [
           0.1111111111111111,
           "#46039f"
          ],
          [
           0.2222222222222222,
           "#7201a8"
          ],
          [
           0.3333333333333333,
           "#9c179e"
          ],
          [
           0.4444444444444444,
           "#bd3786"
          ],
          [
           0.5555555555555556,
           "#d8576b"
          ],
          [
           0.6666666666666666,
           "#ed7953"
          ],
          [
           0.7777777777777778,
           "#fb9f3a"
          ],
          [
           0.8888888888888888,
           "#fdca26"
          ],
          [
           1,
           "#f0f921"
          ]
         ]
        },
        "margin": {
         "t": 60
        },
        "template": {
         "data": {
          "bar": [
           {
            "error_x": {
             "color": "#2a3f5f"
            },
            "error_y": {
             "color": "#2a3f5f"
            },
            "marker": {
             "line": {
              "color": "#E5ECF6",
              "width": 0.5
             },
             "pattern": {
              "fillmode": "overlay",
              "size": 10,
              "solidity": 0.2
             }
            },
            "type": "bar"
           }
          ],
          "barpolar": [
           {
            "marker": {
             "line": {
              "color": "#E5ECF6",
              "width": 0.5
             },
             "pattern": {
              "fillmode": "overlay",
              "size": 10,
              "solidity": 0.2
             }
            },
            "type": "barpolar"
           }
          ],
          "carpet": [
           {
            "aaxis": {
             "endlinecolor": "#2a3f5f",
             "gridcolor": "white",
             "linecolor": "white",
             "minorgridcolor": "white",
             "startlinecolor": "#2a3f5f"
            },
            "baxis": {
             "endlinecolor": "#2a3f5f",
             "gridcolor": "white",
             "linecolor": "white",
             "minorgridcolor": "white",
             "startlinecolor": "#2a3f5f"
            },
            "type": "carpet"
           }
          ],
          "choropleth": [
           {
            "colorbar": {
             "outlinewidth": 0,
             "ticks": ""
            },
            "type": "choropleth"
           }
          ],
          "contour": [
           {
            "colorbar": {
             "outlinewidth": 0,
             "ticks": ""
            },
            "colorscale": [
             [
              0,
              "#0d0887"
             ],
             [
              0.1111111111111111,
              "#46039f"
             ],
             [
              0.2222222222222222,
              "#7201a8"
             ],
             [
              0.3333333333333333,
              "#9c179e"
             ],
             [
              0.4444444444444444,
              "#bd3786"
             ],
             [
              0.5555555555555556,
              "#d8576b"
             ],
             [
              0.6666666666666666,
              "#ed7953"
             ],
             [
              0.7777777777777778,
              "#fb9f3a"
             ],
             [
              0.8888888888888888,
              "#fdca26"
             ],
             [
              1,
              "#f0f921"
             ]
            ],
            "type": "contour"
           }
          ],
          "contourcarpet": [
           {
            "colorbar": {
             "outlinewidth": 0,
             "ticks": ""
            },
            "type": "contourcarpet"
           }
          ],
          "heatmap": [
           {
            "colorbar": {
             "outlinewidth": 0,
             "ticks": ""
            },
            "colorscale": [
             [
              0,
              "#0d0887"
             ],
             [
              0.1111111111111111,
              "#46039f"
             ],
             [
              0.2222222222222222,
              "#7201a8"
             ],
             [
              0.3333333333333333,
              "#9c179e"
             ],
             [
              0.4444444444444444,
              "#bd3786"
             ],
             [
              0.5555555555555556,
              "#d8576b"
             ],
             [
              0.6666666666666666,
              "#ed7953"
             ],
             [
              0.7777777777777778,
              "#fb9f3a"
             ],
             [
              0.8888888888888888,
              "#fdca26"
             ],
             [
              1,
              "#f0f921"
             ]
            ],
            "type": "heatmap"
           }
          ],
          "heatmapgl": [
           {
            "colorbar": {
             "outlinewidth": 0,
             "ticks": ""
            },
            "colorscale": [
             [
              0,
              "#0d0887"
             ],
             [
              0.1111111111111111,
              "#46039f"
             ],
             [
              0.2222222222222222,
              "#7201a8"
             ],
             [
              0.3333333333333333,
              "#9c179e"
             ],
             [
              0.4444444444444444,
              "#bd3786"
             ],
             [
              0.5555555555555556,
              "#d8576b"
             ],
             [
              0.6666666666666666,
              "#ed7953"
             ],
             [
              0.7777777777777778,
              "#fb9f3a"
             ],
             [
              0.8888888888888888,
              "#fdca26"
             ],
             [
              1,
              "#f0f921"
             ]
            ],
            "type": "heatmapgl"
           }
          ],
          "histogram": [
           {
            "marker": {
             "pattern": {
              "fillmode": "overlay",
              "size": 10,
              "solidity": 0.2
             }
            },
            "type": "histogram"
           }
          ],
          "histogram2d": [
           {
            "colorbar": {
             "outlinewidth": 0,
             "ticks": ""
            },
            "colorscale": [
             [
              0,
              "#0d0887"
             ],
             [
              0.1111111111111111,
              "#46039f"
             ],
             [
              0.2222222222222222,
              "#7201a8"
             ],
             [
              0.3333333333333333,
              "#9c179e"
             ],
             [
              0.4444444444444444,
              "#bd3786"
             ],
             [
              0.5555555555555556,
              "#d8576b"
             ],
             [
              0.6666666666666666,
              "#ed7953"
             ],
             [
              0.7777777777777778,
              "#fb9f3a"
             ],
             [
              0.8888888888888888,
              "#fdca26"
             ],
             [
              1,
              "#f0f921"
             ]
            ],
            "type": "histogram2d"
           }
          ],
          "histogram2dcontour": [
           {
            "colorbar": {
             "outlinewidth": 0,
             "ticks": ""
            },
            "colorscale": [
             [
              0,
              "#0d0887"
             ],
             [
              0.1111111111111111,
              "#46039f"
             ],
             [
              0.2222222222222222,
              "#7201a8"
             ],
             [
              0.3333333333333333,
              "#9c179e"
             ],
             [
              0.4444444444444444,
              "#bd3786"
             ],
             [
              0.5555555555555556,
              "#d8576b"
             ],
             [
              0.6666666666666666,
              "#ed7953"
             ],
             [
              0.7777777777777778,
              "#fb9f3a"
             ],
             [
              0.8888888888888888,
              "#fdca26"
             ],
             [
              1,
              "#f0f921"
             ]
            ],
            "type": "histogram2dcontour"
           }
          ],
          "mesh3d": [
           {
            "colorbar": {
             "outlinewidth": 0,
             "ticks": ""
            },
            "type": "mesh3d"
           }
          ],
          "parcoords": [
           {
            "line": {
             "colorbar": {
              "outlinewidth": 0,
              "ticks": ""
             }
            },
            "type": "parcoords"
           }
          ],
          "pie": [
           {
            "automargin": true,
            "type": "pie"
           }
          ],
          "scatter": [
           {
            "fillpattern": {
             "fillmode": "overlay",
             "size": 10,
             "solidity": 0.2
            },
            "type": "scatter"
           }
          ],
          "scatter3d": [
           {
            "line": {
             "colorbar": {
              "outlinewidth": 0,
              "ticks": ""
             }
            },
            "marker": {
             "colorbar": {
              "outlinewidth": 0,
              "ticks": ""
             }
            },
            "type": "scatter3d"
           }
          ],
          "scattercarpet": [
           {
            "marker": {
             "colorbar": {
              "outlinewidth": 0,
              "ticks": ""
             }
            },
            "type": "scattercarpet"
           }
          ],
          "scattergeo": [
           {
            "marker": {
             "colorbar": {
              "outlinewidth": 0,
              "ticks": ""
             }
            },
            "type": "scattergeo"
           }
          ],
          "scattergl": [
           {
            "marker": {
             "colorbar": {
              "outlinewidth": 0,
              "ticks": ""
             }
            },
            "type": "scattergl"
           }
          ],
          "scattermapbox": [
           {
            "marker": {
             "colorbar": {
              "outlinewidth": 0,
              "ticks": ""
             }
            },
            "type": "scattermapbox"
           }
          ],
          "scatterpolar": [
           {
            "marker": {
             "colorbar": {
              "outlinewidth": 0,
              "ticks": ""
             }
            },
            "type": "scatterpolar"
           }
          ],
          "scatterpolargl": [
           {
            "marker": {
             "colorbar": {
              "outlinewidth": 0,
              "ticks": ""
             }
            },
            "type": "scatterpolargl"
           }
          ],
          "scatterternary": [
           {
            "marker": {
             "colorbar": {
              "outlinewidth": 0,
              "ticks": ""
             }
            },
            "type": "scatterternary"
           }
          ],
          "surface": [
           {
            "colorbar": {
             "outlinewidth": 0,
             "ticks": ""
            },
            "colorscale": [
             [
              0,
              "#0d0887"
             ],
             [
              0.1111111111111111,
              "#46039f"
             ],
             [
              0.2222222222222222,
              "#7201a8"
             ],
             [
              0.3333333333333333,
              "#9c179e"
             ],
             [
              0.4444444444444444,
              "#bd3786"
             ],
             [
              0.5555555555555556,
              "#d8576b"
             ],
             [
              0.6666666666666666,
              "#ed7953"
             ],
             [
              0.7777777777777778,
              "#fb9f3a"
             ],
             [
              0.8888888888888888,
              "#fdca26"
             ],
             [
              1,
              "#f0f921"
             ]
            ],
            "type": "surface"
           }
          ],
          "table": [
           {
            "cells": {
             "fill": {
              "color": "#EBF0F8"
             },
             "line": {
              "color": "white"
             }
            },
            "header": {
             "fill": {
              "color": "#C8D4E3"
             },
             "line": {
              "color": "white"
             }
            },
            "type": "table"
           }
          ]
         },
         "layout": {
          "annotationdefaults": {
           "arrowcolor": "#2a3f5f",
           "arrowhead": 0,
           "arrowwidth": 1
          },
          "autotypenumbers": "strict",
          "coloraxis": {
           "colorbar": {
            "outlinewidth": 0,
            "ticks": ""
           }
          },
          "colorscale": {
           "diverging": [
            [
             0,
             "#8e0152"
            ],
            [
             0.1,
             "#c51b7d"
            ],
            [
             0.2,
             "#de77ae"
            ],
            [
             0.3,
             "#f1b6da"
            ],
            [
             0.4,
             "#fde0ef"
            ],
            [
             0.5,
             "#f7f7f7"
            ],
            [
             0.6,
             "#e6f5d0"
            ],
            [
             0.7,
             "#b8e186"
            ],
            [
             0.8,
             "#7fbc41"
            ],
            [
             0.9,
             "#4d9221"
            ],
            [
             1,
             "#276419"
            ]
           ],
           "sequential": [
            [
             0,
             "#0d0887"
            ],
            [
             0.1111111111111111,
             "#46039f"
            ],
            [
             0.2222222222222222,
             "#7201a8"
            ],
            [
             0.3333333333333333,
             "#9c179e"
            ],
            [
             0.4444444444444444,
             "#bd3786"
            ],
            [
             0.5555555555555556,
             "#d8576b"
            ],
            [
             0.6666666666666666,
             "#ed7953"
            ],
            [
             0.7777777777777778,
             "#fb9f3a"
            ],
            [
             0.8888888888888888,
             "#fdca26"
            ],
            [
             1,
             "#f0f921"
            ]
           ],
           "sequentialminus": [
            [
             0,
             "#0d0887"
            ],
            [
             0.1111111111111111,
             "#46039f"
            ],
            [
             0.2222222222222222,
             "#7201a8"
            ],
            [
             0.3333333333333333,
             "#9c179e"
            ],
            [
             0.4444444444444444,
             "#bd3786"
            ],
            [
             0.5555555555555556,
             "#d8576b"
            ],
            [
             0.6666666666666666,
             "#ed7953"
            ],
            [
             0.7777777777777778,
             "#fb9f3a"
            ],
            [
             0.8888888888888888,
             "#fdca26"
            ],
            [
             1,
             "#f0f921"
            ]
           ]
          },
          "colorway": [
           "#636efa",
           "#EF553B",
           "#00cc96",
           "#ab63fa",
           "#FFA15A",
           "#19d3f3",
           "#FF6692",
           "#B6E880",
           "#FF97FF",
           "#FECB52"
          ],
          "font": {
           "color": "#2a3f5f"
          },
          "geo": {
           "bgcolor": "white",
           "lakecolor": "white",
           "landcolor": "#E5ECF6",
           "showlakes": true,
           "showland": true,
           "subunitcolor": "white"
          },
          "hoverlabel": {
           "align": "left"
          },
          "hovermode": "closest",
          "mapbox": {
           "style": "light"
          },
          "paper_bgcolor": "white",
          "plot_bgcolor": "#E5ECF6",
          "polar": {
           "angularaxis": {
            "gridcolor": "white",
            "linecolor": "white",
            "ticks": ""
           },
           "bgcolor": "#E5ECF6",
           "radialaxis": {
            "gridcolor": "white",
            "linecolor": "white",
            "ticks": ""
           }
          },
          "scene": {
           "xaxis": {
            "backgroundcolor": "#E5ECF6",
            "gridcolor": "white",
            "gridwidth": 2,
            "linecolor": "white",
            "showbackground": true,
            "ticks": "",
            "zerolinecolor": "white"
           },
           "yaxis": {
            "backgroundcolor": "#E5ECF6",
            "gridcolor": "white",
            "gridwidth": 2,
            "linecolor": "white",
            "showbackground": true,
            "ticks": "",
            "zerolinecolor": "white"
           },
           "zaxis": {
            "backgroundcolor": "#E5ECF6",
            "gridcolor": "white",
            "gridwidth": 2,
            "linecolor": "white",
            "showbackground": true,
            "ticks": "",
            "zerolinecolor": "white"
           }
          },
          "shapedefaults": {
           "line": {
            "color": "#2a3f5f"
           }
          },
          "ternary": {
           "aaxis": {
            "gridcolor": "white",
            "linecolor": "white",
            "ticks": ""
           },
           "baxis": {
            "gridcolor": "white",
            "linecolor": "white",
            "ticks": ""
           },
           "bgcolor": "#E5ECF6",
           "caxis": {
            "gridcolor": "white",
            "linecolor": "white",
            "ticks": ""
           }
          },
          "title": {
           "x": 0.05
          },
          "xaxis": {
           "automargin": true,
           "gridcolor": "white",
           "linecolor": "white",
           "ticks": "",
           "title": {
            "standoff": 15
           },
           "zerolinecolor": "white",
           "zerolinewidth": 2
          },
          "yaxis": {
           "automargin": true,
           "gridcolor": "white",
           "linecolor": "white",
           "ticks": "",
           "title": {
            "standoff": 15
           },
           "zerolinecolor": "white",
           "zerolinewidth": 2
          }
         }
        },
        "xaxis": {
         "anchor": "y",
         "constrain": "domain",
         "domain": [
          0,
          1
         ],
         "scaleanchor": "y"
        },
        "yaxis": {
         "anchor": "x",
         "autorange": "reversed",
         "constrain": "domain",
         "domain": [
          0,
          1
         ]
        }
       }
      }
     },
     "metadata": {},
     "output_type": "display_data"
    }
   ],
   "source": [
    "fig = px.imshow(df_cos)\n",
    "fig.show()"
   ]
  }
 ],
 "metadata": {
  "kernelspec": {
   "display_name": "Python 3",
   "language": "python",
   "name": "python3"
  },
  "language_info": {
   "codemirror_mode": {
    "name": "ipython",
    "version": 3
   },
   "file_extension": ".py",
   "mimetype": "text/x-python",
   "name": "python",
   "nbconvert_exporter": "python",
   "pygments_lexer": "ipython3",
   "version": "3.11.1"
  }
 },
 "nbformat": 4,
 "nbformat_minor": 2
}
